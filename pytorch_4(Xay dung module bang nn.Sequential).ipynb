{
 "cells": [
  {
   "cell_type": "code",
   "execution_count": 1,
   "id": "ca72464e",
   "metadata": {},
   "outputs": [],
   "source": [
    "import torch\n",
    "import torch.nn as nn"
   ]
  },
  {
   "cell_type": "code",
   "execution_count": 2,
   "id": "539b38da",
   "metadata": {},
   "outputs": [],
   "source": [
    "net = nn.Sequential()"
   ]
  },
  {
   "cell_type": "code",
   "execution_count": 4,
   "id": "88eceac4",
   "metadata": {},
   "outputs": [],
   "source": [
    "class Flatten(nn.Module):\n",
    "    def forward(self,x): # x=(10,3,32,32)-> (10,3*32*32)\n",
    "        size = x.size()[1:]\n",
    "        num_features = 1\n",
    "        for S in size:\n",
    "            num_features *=S\n",
    "        return x.view(-1,num_features)"
   ]
  },
  {
   "cell_type": "code",
   "execution_count": 6,
   "id": "a18c55f3",
   "metadata": {},
   "outputs": [],
   "source": [
    "net.add_module(\"Conv1\", nn.Conv2d(1,6,3))\n",
    "net.add_module(\"ReLU1\", nn.ReLU())\n",
    "net.add_module(\"Maxpooling1\", nn.MaxPool2d(2))\n",
    "\n",
    "net.add_module(\"Conv2\",nn.Conv2d(6,16,3))\n",
    "net.add_module(\"ReLU2\",nn.ReLU())\n",
    "net.add_module(\"Maxpooling2\",nn.MaxPool2d(2))\n",
    "net.add_module(\"Flatten\",Flatten())\n",
    "\n",
    "net.add_module(\"Fc1\", nn.Linear(16*6*6,120))\n",
    "net.add_module(\"Fc2\", nn.Linear(120,84))\n",
    "net.add_module(\"Fc3\", nn.Linear(84,10))"
   ]
  },
  {
   "cell_type": "code",
   "execution_count": 7,
   "id": "6e314fe7",
   "metadata": {},
   "outputs": [
    {
     "name": "stdout",
     "output_type": "stream",
     "text": [
      "Sequential(\n",
      "  (Conv1): Conv2d(1, 6, kernel_size=(3, 3), stride=(1, 1))\n",
      "  (ReLU1): ReLU()\n",
      "  (Maxpooling1): MaxPool2d(kernel_size=2, stride=2, padding=0, dilation=1, ceil_mode=False)\n",
      "  (Conv2): Conv2d(6, 16, kernel_size=(3, 3), stride=(1, 1))\n",
      "  (ReLU2): ReLU()\n",
      "  (Maxpooling2): MaxPool2d(kernel_size=2, stride=2, padding=0, dilation=1, ceil_mode=False)\n",
      "  (Flatten): Flatten()\n",
      "  (Fc1): Linear(in_features=576, out_features=120, bias=True)\n",
      "  (Fc2): Linear(in_features=120, out_features=84, bias=True)\n",
      "  (Fc3): Linear(in_features=84, out_features=10, bias=True)\n",
      ")\n"
     ]
    }
   ],
   "source": [
    "print(net)"
   ]
  },
  {
   "cell_type": "code",
   "execution_count": 8,
   "id": "89c1a664",
   "metadata": {},
   "outputs": [],
   "source": [
    "input =  torch.rand(1,1,32,32)"
   ]
  },
  {
   "cell_type": "code",
   "execution_count": 9,
   "id": "906227ca",
   "metadata": {},
   "outputs": [],
   "source": [
    "output = net(input)"
   ]
  },
  {
   "cell_type": "code",
   "execution_count": 10,
   "id": "f1d64a0a",
   "metadata": {},
   "outputs": [
    {
     "name": "stdout",
     "output_type": "stream",
     "text": [
      "torch.Size([1, 10])\n"
     ]
    }
   ],
   "source": [
    "print(output.shape)"
   ]
  },
  {
   "cell_type": "code",
   "execution_count": null,
   "id": "358c1b52",
   "metadata": {},
   "outputs": [],
   "source": []
  }
 ],
 "metadata": {
  "kernelspec": {
   "display_name": "Python 3",
   "language": "python",
   "name": "python3"
  },
  "language_info": {
   "codemirror_mode": {
    "name": "ipython",
    "version": 3
   },
   "file_extension": ".py",
   "mimetype": "text/x-python",
   "name": "python",
   "nbconvert_exporter": "python",
   "pygments_lexer": "ipython3",
   "version": "3.6.13"
  }
 },
 "nbformat": 4,
 "nbformat_minor": 5
}
