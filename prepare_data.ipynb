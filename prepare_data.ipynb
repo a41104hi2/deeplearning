{
 "cells": [
  {
   "cell_type": "code",
   "execution_count": 3,
   "id": "e9048e92",
   "metadata": {},
   "outputs": [],
   "source": [
    "import os\n",
    "import zipfile\n",
    "import urllib.request\n",
    "data_dir = \"./data\""
   ]
  },
  {
   "cell_type": "code",
   "execution_count": 4,
   "id": "7e6408d7",
   "metadata": {},
   "outputs": [
    {
     "name": "stdout",
     "output_type": "stream",
     "text": [
      " Volume in drive C is OS\n",
      " Volume Serial Number is 6C25-BD48\n",
      "\n",
      " Directory of C:\\Users\\ADMIN\\Pytorch\n",
      "\n",
      "04/10/2023  09:39 PM    <DIR>          .\n",
      "04/09/2023  11:07 PM    <DIR>          ..\n",
      "04/10/2023  04:51 PM    <DIR>          .ipynb_checkpoints\n",
      "04/10/2023  09:39 PM    <DIR>          data\n",
      "04/09/2023  11:17 PM           246,906 Image Classification-Load Model.ipynb\n",
      "04/09/2023  11:05 PM            35,363 imagenet_class_index.json\n",
      "04/10/2023  07:32 PM             3,867 prepare_data.ipynb\n",
      "04/08/2023  11:28 PM             3,574 pytorch_4(Xay dung module bang nn.Sequential).ipynb\n",
      "               4 File(s)        289,710 bytes\n",
      "               4 Dir(s)  18,683,969,536 bytes free\n"
     ]
    }
   ],
   "source": [
    "!dir"
   ]
  },
  {
   "cell_type": "code",
   "execution_count": 5,
   "id": "70d163f7",
   "metadata": {},
   "outputs": [],
   "source": [
    "url = \"https://download.pytorch.org/tutorial/hymenoptera_data.zip\"\n",
    "save_path = os.path.join(data_dir, \"hymenoptera_data.zip\")\n",
    "\n",
    "if not os.path.exists(save_path):\n",
    "    urllib.request.urlretrieve(url, save_path)\n",
    "    \n",
    "    # read by zipfile\n",
    "    zip = zipfile.ZipFile(save_path)\n",
    "    zip.extractall(data_dir)\n",
    "    zip.close()\n",
    "    \n",
    "    os.remove(save_path)"
   ]
  },
  {
   "cell_type": "code",
   "execution_count": 13,
   "id": "48632fb3",
   "metadata": {
    "scrolled": true
   },
   "outputs": [
    {
     "name": "stdout",
     "output_type": "stream",
     "text": [
      " Volume in drive C is OS\n",
      " Volume Serial Number is 6C25-BD48\n",
      "\n",
      " Directory of C:\\Users\\ADMIN\\Pytorch\\data\\hymenoptera_data\n",
      "\n",
      "04/10/2023  05:00 PM    <DIR>          .\n",
      "04/10/2023  09:48 PM    <DIR>          ..\n",
      "04/10/2023  05:00 PM    <DIR>          train\n",
      "04/10/2023  05:00 PM    <DIR>          val\n",
      "               0 File(s)              0 bytes\n",
      "               4 Dir(s)  18,683,097,088 bytes free\n"
     ]
    }
   ],
   "source": [
    "!dir C:\\Users\\ADMIN\\Pytorch\\data\\hymenoptera_data\\"
   ]
  },
  {
   "cell_type": "code",
   "execution_count": 22,
   "id": "bb2d8db6",
   "metadata": {},
   "outputs": [
    {
     "name": "stdout",
     "output_type": "stream",
     "text": [
      "130\n"
     ]
    }
   ],
   "source": [
    "!dir data\\hymenoptera_data\\train\\bees\\ | find /c /v \"\""
   ]
  },
  {
   "cell_type": "code",
   "execution_count": null,
   "id": "297503a5",
   "metadata": {},
   "outputs": [],
   "source": []
  }
 ],
 "metadata": {
  "kernelspec": {
   "display_name": "Python 3",
   "language": "python",
   "name": "python3"
  },
  "language_info": {
   "codemirror_mode": {
    "name": "ipython",
    "version": 3
   },
   "file_extension": ".py",
   "mimetype": "text/x-python",
   "name": "python",
   "nbconvert_exporter": "python",
   "pygments_lexer": "ipython3",
   "version": "3.6.13"
  }
 },
 "nbformat": 4,
 "nbformat_minor": 5
}
